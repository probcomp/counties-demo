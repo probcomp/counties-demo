{
 "cells": [
  {
   "cell_type": "markdown",
   "metadata": {},
   "source": [
    "# Bayesian Database Search API Tutorial"
   ]
  },
  {
   "cell_type": "markdown",
   "metadata": {},
   "source": [
    "## Preamble\n",
    "Import the libraries we need."
   ]
  },
  {
   "cell_type": "code",
   "execution_count": null,
   "metadata": {},
   "outputs": [],
   "source": [
    "import requests\n",
    "import math\n",
    "import numpy\n",
    "import pandas\n",
    "import plotly.figure_factory as figure_factory\n",
    "import plotly.graph_objs as graph_objs\n",
    "import plotly.offline as offline\n",
    "import plotly.plotly as py"
   ]
  },
  {
   "cell_type": "markdown",
   "metadata": {},
   "source": [
    "Configure plotly to work in offline mode."
   ]
  },
  {
   "cell_type": "code",
   "execution_count": null,
   "metadata": {},
   "outputs": [],
   "source": [
    "offline.init_notebook_mode(connected=False)"
   ]
  },
  {
   "cell_type": "markdown",
   "metadata": {},
   "source": [
    "Set HTTP headers to be used across all requests."
   ]
  },
  {
   "cell_type": "code",
   "execution_count": null,
   "metadata": {},
   "outputs": [],
   "source": [
    "headers = {'content-type': 'application/json'}"
   ]
  },
  {
   "cell_type": "markdown",
   "metadata": {},
   "source": [
    "Define a function to render bar charts with large column names."
   ]
  },
  {
   "cell_type": "code",
   "execution_count": null,
   "metadata": {},
   "outputs": [],
   "source": [
    "def bar_chart(columns, title=\"\", x_axis=\"\"):\n",
    "    \"\"\"Takes an array of dictionaries that have the keys 'column' and 'score'.\n",
    "    The value for the 'column' key is a string representing the name of the column.\n",
    "    The value for the 'score' key is an integer.\n",
    "    \"\"\"\n",
    "    short_names = (column['column'][:40] for column in columns)\n",
    "    truncated_names = ['{}…'.format(name) if len(name) > 40 else name \n",
    "                       for name in short_names]\n",
    "    scores = [column['score'] for column in columns]\n",
    "\n",
    "    data = [graph_objs.Bar(\n",
    "        x=scores,\n",
    "        y=truncated_names,\n",
    "        orientation = 'h'\n",
    "    )]\n",
    "\n",
    "    layout = graph_objs.Layout(\n",
    "        margin=graph_objs.layout.Margin(),\n",
    "        title=title,\n",
    "        yaxis=dict(\n",
    "            tickfont=dict(\n",
    "                size=9,\n",
    "                color='rgb(107, 107, 107)'\n",
    "            ),\n",
    "            tickangle=30,\n",
    "            automargin=True\n",
    "        ),\n",
    "        xaxis=dict(title=x_axis)\n",
    "    )\n",
    "\n",
    "    return graph_objs.Figure(data=data, layout=layout)\n",
    "\n",
    "def choropleth(fips=[], values=[], title='', legend_title=None, color_scale=None):\n",
    "    assert len(fips) == len(values), 'Length of fips ({}) and length of values ({}) do not match.'.format(len(fips), len(values))\n",
    "    \n",
    "    default_color_scale = [\"#f7fbff\",\"#ebf3fb\",\"#deebf7\",\"#d2e3f3\",\"#c6dbef\",\"#b3d2e9\",\"#9ecae1\",\n",
    "                           \"#85bcdb\",\"#6baed6\",\"#57a0ce\",\"#4292c6\",\"#3082be\",\"#2171b5\",\"#1361a9\",\n",
    "                           \"#08519c\",\"#0b4083\",\"#08306b\"]\n",
    "    default_color_scale.reverse()\n",
    "    color_scale = color_scale or default_color_scale\n",
    "    \n",
    "    binning_endpoints = list(numpy.linspace(min(values), max(values), len(color_scale) - 1))\n",
    "    \n",
    "    return figure_factory.create_choropleth(\n",
    "        fips=fips, \n",
    "        values=values,\n",
    "        scope=['usa'],\n",
    "        colorscale=color_scale,\n",
    "        binning_endpoints=binning_endpoints,\n",
    "        county_outline={\n",
    "            'color': 'rgb(15, 15, 55)', \n",
    "            'width': 0.5\n",
    "        },\n",
    "        show_hover=True, \n",
    "        centroid_marker={'opacity': 0},\n",
    "        asp=2.9, \n",
    "        title=title,\n",
    "        showlegend=(legend_title is not None),\n",
    "        **(dict(legend_title=legend_title) if legend_title else {})\n",
    "    )\n",
    "\n",
    "def scatterplot(xs=[], ys=[], text=[], title='', x_axis='', y_axis=''):\n",
    "    assert len(xs) == len(ys) == len(text),\\\n",
    "        'Length of xs ({}) and ys ({}) and text ({}) must match.'.format(len(xs), len(ys), len(text))\n",
    "\n",
    "    trace = graph_objs.Scatter(\n",
    "        x=xs,\n",
    "        y=ys,\n",
    "        text=text,\n",
    "        mode='markers'\n",
    "    )\n",
    "    \n",
    "    layout = graph_objs.Layout(\n",
    "        title=title,\n",
    "        hovermode='closest',\n",
    "        xaxis=dict(title=x_axis),\n",
    "        yaxis=dict(title=y_axis),\n",
    "        showlegend= False\n",
    "    )\n",
    "\n",
    "    return graph_objs.Figure(data=[trace], layout=layout)"
   ]
  },
  {
   "cell_type": "markdown",
   "metadata": {},
   "source": [
    "## Visualize the data table"
   ]
  },
  {
   "cell_type": "code",
   "execution_count": null,
   "metadata": {},
   "outputs": [],
   "source": [
    "http_response = requests.get('http://bayesrest:5000/table-data', ())\n",
    "assert http_response.status_code == 200\n",
    "\n",
    "response_json = http_response.json()\n",
    "data = response_json['data']\n",
    "\n",
    "df = pandas.DataFrame(\n",
    "    data=data,\n",
    "    columns=response_json['columns']\n",
    ")\n",
    "df.index = df['rowid']\n",
    "\n",
    "def with_columns(rdf, columns=[]):\n",
    "    return rdf.merge(\n",
    "            df.loc[:, ['rowid'] + columns], \n",
    "            on='rowid', \n",
    "            how='left'\n",
    "    )\n",
    "\n",
    "df[:5]"
   ]
  },
  {
   "cell_type": "markdown",
   "metadata": {},
   "source": [
    "## Columns most predictive of `Opioid_Deaths`"
   ]
  },
  {
   "cell_type": "markdown",
   "metadata": {},
   "source": [
    "#### Fetch"
   ]
  },
  {
   "cell_type": "code",
   "execution_count": null,
   "metadata": {},
   "outputs": [],
   "source": [
    "fac_payload = dict(column='Opioid_Deaths')\n",
    "fac_response = requests.post(\n",
    "    'http://bayesrest:5000/find-associated-columns',\n",
    "    json=fac_payload, \n",
    "    headers=headers\n",
    ")\n",
    "assert fac_response.status_code == 200"
   ]
  },
  {
   "cell_type": "markdown",
   "metadata": {},
   "source": [
    "#### Bar chart"
   ]
  },
  {
   "cell_type": "code",
   "execution_count": null,
   "metadata": {},
   "outputs": [],
   "source": [
    "associated_columns = fac_response.json()\n",
    "fac_bar_chart = bar_chart(\n",
    "    associated_columns[:25],\n",
    "    title='Columns most predictive of Opioid_Deaths', \n",
    "    x_axis='Relevance to Opioid_Deaths'\n",
    ")\n",
    "offline.iplot(fac_bar_chart)"
   ]
  },
  {
   "cell_type": "markdown",
   "metadata": {},
   "source": [
    "## Counties with unlikely numbers of opioid deaths"
   ]
  },
  {
   "cell_type": "markdown",
   "metadata": {},
   "source": [
    "### Unlikely counties without context"
   ]
  },
  {
   "cell_type": "markdown",
   "metadata": {},
   "source": [
    "#### Fetch"
   ]
  },
  {
   "cell_type": "code",
   "execution_count": null,
   "metadata": {},
   "outputs": [],
   "source": [
    "fa_payload_0 = {\n",
    "        'target-column': 'Opioid_Deaths', \n",
    "        'context-columns': []\n",
    "}\n",
    "fa_response_0 = requests.post(\n",
    "    'http://bayesrest:5000/find-anomalies', \n",
    "    json=fa_payload_0, \n",
    "    headers={'content-type': 'application/json'}\n",
    ")\n",
    "assert fa_response_0.status_code == 200"
   ]
  },
  {
   "cell_type": "code",
   "execution_count": null,
   "metadata": {},
   "outputs": [],
   "source": [
    "fa_df_0 = pandas.DataFrame(fa_response_0.json(), columns=['rowid', 'probability'])\n",
    "fa_df_0 = fa_df_0[fa_df_0['probability'].notnull()]\n",
    "fa_df_0 = with_columns(fa_df_0, ['state_county_fips', 'Opioid_Deaths', 'Location'])\n",
    "fa_df_0[:5]"
   ]
  },
  {
   "cell_type": "markdown",
   "metadata": {},
   "source": [
    "#### Choropleth"
   ]
  },
  {
   "cell_type": "code",
   "execution_count": null,
   "metadata": {},
   "outputs": [],
   "source": [
    "fa_choropleth_0 = choropleth(\n",
    "    fa_df_0['state_county_fips'], \n",
    "    fa_df_0['probability'].transform(lambda p: math.log(p)), \n",
    "    title='Counties with unlikely values for Opioid_Deaths'\n",
    ")\n",
    "offline.iplot(fa_choropleth_0)"
   ]
  },
  {
   "cell_type": "markdown",
   "metadata": {},
   "source": [
    "#### Scatterplot"
   ]
  },
  {
   "cell_type": "code",
   "execution_count": null,
   "metadata": {},
   "outputs": [],
   "source": [
    "fa_scatter_0 = scatterplot(\n",
    "    xs=fa_df_0['Opioid_Deaths'],\n",
    "    ys=fa_df_0['probability'],\n",
    "    text=fa_df_0['Location'],\n",
    "    x_axis='Opioid_Deaths', \n",
    "    y_axis='Probability'\n",
    ")\n",
    "offline.iplot(fa_scatter_0)"
   ]
  },
  {
   "cell_type": "markdown",
   "metadata": {},
   "source": [
    "### Unlikely counties in the context of predictively relevant columns"
   ]
  },
  {
   "cell_type": "markdown",
   "metadata": {},
   "source": [
    "#### Fetch"
   ]
  },
  {
   "cell_type": "code",
   "execution_count": null,
   "metadata": {},
   "outputs": [],
   "source": [
    "fa_payload_1 = {\n",
    "    'target-column': 'Opioid_Deaths', \n",
    "    'context-columns': [\n",
    "        '\"Trump 2016\"', \n",
    "        '\"Total Population: Foreign Born: Not a Citizen\"', \n",
    "        '\"Families: Income in  below poverty level: Married Couple Family: with Related Child Living  Bellow Poverty Level\"'\n",
    "    ]\n",
    "}\n",
    "fa_response_1 = requests.post('http://bayesrest:5000/find-anomalies', json=fa_payload_1, headers=headers)\n",
    "assert fa_response_1.status_code == 200"
   ]
  },
  {
   "cell_type": "code",
   "execution_count": null,
   "metadata": {},
   "outputs": [],
   "source": [
    "fa_df_1 = pandas.DataFrame(fa_response_1.json(), columns=['rowid', 'probability'])\n",
    "fa_df_1 = fa_df_1[fa_df_1['probability'].notnull()]\n",
    "fa_df_1 = with_columns(fa_df_1, ['state_county_fips', 'Opioid_Deaths', 'Location'])\n",
    "fa_df_1[:5]"
   ]
  },
  {
   "cell_type": "markdown",
   "metadata": {},
   "source": [
    "#### Choropleth"
   ]
  },
  {
   "cell_type": "code",
   "execution_count": null,
   "metadata": {},
   "outputs": [],
   "source": [
    "fa_choropleth_1 = choropleth(\n",
    "    fa_df_1['state_county_fips'], \n",
    "    fa_df_1['probability'].transform(lambda p: math.log(p)), \n",
    "    title='''Anomalous counties in terms of opioid deaths, in the context of support for Trump, \n",
    "    <br>density of immigrants, and poverty'''\n",
    ")\n",
    "offline.iplot(fa_choropleth_1)"
   ]
  },
  {
   "cell_type": "markdown",
   "metadata": {},
   "source": [
    "#### Scatterplot"
   ]
  },
  {
   "cell_type": "code",
   "execution_count": null,
   "metadata": {},
   "outputs": [],
   "source": [
    "fa_scatter_1 = scatterplot(\n",
    "    fa_df_1['Opioid_Deaths'],\n",
    "    fa_df_1['probability'],\n",
    "    fa_df_1['Location'],\n",
    "    x_axis='Opioid_Deaths', \n",
    "    y_axis='Anomalousness Score',\n",
    "    title='''Anomalous counties in terms of opioid deaths, in the context of support for Trump, \n",
    "    <br> density of immigrants, and poverty'''\n",
    ")\n",
    "offline.iplot(fa_scatter_1)"
   ]
  },
  {
   "cell_type": "markdown",
   "metadata": {},
   "source": [
    "## Counties similar to a county with a low number of opioid deaths"
   ]
  },
  {
   "cell_type": "markdown",
   "metadata": {},
   "source": [
    "Here we'll focus on counties similar to a county with a low number of opioid deaths: **Fillmore County, Minnesota**."
   ]
  },
  {
   "cell_type": "markdown",
   "metadata": {},
   "source": [
    "#### Fetch"
   ]
  },
  {
   "cell_type": "code",
   "execution_count": null,
   "metadata": {},
   "outputs": [],
   "source": [
    "fp_payload = {\n",
    "    'target-row': 27, \n",
    "    'context-column': 'Opioid_Deaths'\n",
    "}\n",
    "\n",
    "fp_response = requests.post(\n",
    "    'http://bayesrest:5000/find-peers', \n",
    "    json=fp_payload, \n",
    "    headers=headers)\n",
    "assert fp_response.status_code == 200"
   ]
  },
  {
   "cell_type": "code",
   "execution_count": null,
   "metadata": {},
   "outputs": [],
   "source": [
    "fp_df = pandas.DataFrame(fp_response.json(), columns=['rowid', 'similarity'])\n",
    "fp_df = fp_df[fp_df['similarity'].notnull()]\n",
    "fp_df = with_columns(fp_df, ['state_county_fips', 'Opioid_Deaths', 'Location'])\n",
    "fp_df[:5]"
   ]
  },
  {
   "cell_type": "markdown",
   "metadata": {},
   "source": [
    "#### Choropleth"
   ]
  },
  {
   "cell_type": "code",
   "execution_count": null,
   "metadata": {},
   "outputs": [],
   "source": [
    "fp_choropleth = choropleth(\n",
    "    fips=fp_df['state_county_fips'], \n",
    "    values=fp_df['similarity'], \n",
    "    legend_title='Similarity Score',\n",
    "    title='Counties Similar to Fillmore County, Minnesota with respect to opioid deaths',\n",
    "    color_scale=[\"#f7fbff\",\"#ebf3fb\",\"#deebf7\",\"#d2e3f3\",\"#c6dbef\",\"#b3d2e9\",\"#9ecae1\", \"#85bcdb\",\"#6baed6\",\"#57a0ce\",\"#4292c6\"]\n",
    ")\n",
    "offline.iplot(fp_choropleth)"
   ]
  },
  {
   "cell_type": "markdown",
   "metadata": {},
   "source": [
    "#### Scatterplot"
   ]
  },
  {
   "cell_type": "code",
   "execution_count": null,
   "metadata": {},
   "outputs": [],
   "source": [
    "fp_scatter = scatterplot(\n",
    "    xs=fp_df['Opioid_Deaths'],\n",
    "    x_axis='Opioid_Deaths', \n",
    "    ys=fp_df['similarity'],\n",
    "    y_axis='Similarity Score',\n",
    "    text=fp_df['Location'],\n",
    "    title='Counties Similar to Fillmore County, Minnesota with respect to opioid deaths'\n",
    ")\n",
    "offline.iplot(fp_scatter)"
   ]
  }
 ],
 "metadata": {
  "kernelspec": {
   "display_name": "Python 3",
   "language": "python",
   "name": "python3"
  },
  "language_info": {
   "codemirror_mode": {
    "name": "ipython",
    "version": 3
   },
   "file_extension": ".py",
   "mimetype": "text/x-python",
   "name": "python",
   "nbconvert_exporter": "python",
   "pygments_lexer": "ipython3",
   "version": "3.6.4"
  }
 },
 "nbformat": 4,
 "nbformat_minor": 2
}
