{
 "cells": [
  {
   "cell_type": "markdown",
   "metadata": {},
   "source": [
    "# Bayesian Database Search API Tutorial"
   ]
  },
  {
   "cell_type": "markdown",
   "metadata": {},
   "source": [
    "## Preamble\n",
    "Import necessary libraries."
   ]
  },
  {
   "cell_type": "code",
   "execution_count": null,
   "metadata": {},
   "outputs": [],
   "source": [
    "import requests\n",
    "import math\n",
    "import pandas"
   ]
  },
  {
   "cell_type": "markdown",
   "metadata": {},
   "source": [
    "Set HTTP headers to be used across all requests."
   ]
  },
  {
   "cell_type": "code",
   "execution_count": null,
   "metadata": {},
   "outputs": [],
   "source": [
    "headers = {'content-type': 'application/json'}"
   ]
  },
  {
   "cell_type": "markdown",
   "metadata": {},
   "source": [
    "Load visualization utility functions."
   ]
  },
  {
   "cell_type": "code",
   "execution_count": null,
   "metadata": {},
   "outputs": [],
   "source": [
    "%run visualize.py"
   ]
  },
  {
   "cell_type": "markdown",
   "metadata": {},
   "source": [
    "## The data"
   ]
  },
  {
   "cell_type": "code",
   "execution_count": null,
   "metadata": {},
   "outputs": [],
   "source": [
    "http_response = requests.get('http://bayesrest:5000/table-data', ())\n",
    "assert http_response.status_code == 200\n",
    "\n",
    "response_json = http_response.json()\n",
    "data = response_json['data']\n",
    "\n",
    "df = pandas.DataFrame(\n",
    "    data=data,\n",
    "    columns=response_json['columns']\n",
    ")\n",
    "df.index = df['rowid']\n",
    "\n",
    "def with_columns(rdf, columns=[]):\n",
    "    return rdf.merge(\n",
    "            df.loc[:, ['rowid'] + columns], \n",
    "            on='rowid', \n",
    "            how='left'\n",
    "    )\n",
    "\n",
    "df[:5]"
   ]
  },
  {
   "cell_type": "markdown",
   "metadata": {},
   "source": [
    "## Columns most predictive of `Opioid_Deaths`"
   ]
  },
  {
   "cell_type": "code",
   "execution_count": null,
   "metadata": {},
   "outputs": [],
   "source": [
    "fac0_column = 'Opioid_Deaths'"
   ]
  },
  {
   "cell_type": "markdown",
   "metadata": {},
   "source": [
    "#### Fetch"
   ]
  },
  {
   "cell_type": "code",
   "execution_count": null,
   "metadata": {},
   "outputs": [],
   "source": [
    "fac0_payload = dict(column=fac0_column)\n",
    "fac0_response = requests.post(\n",
    "    'http://bayesrest:5000/find-associated-columns',\n",
    "    json=fac0_payload, \n",
    "    headers=headers\n",
    ")\n",
    "assert fac0_response.status_code == 200"
   ]
  },
  {
   "cell_type": "markdown",
   "metadata": {},
   "source": [
    "#### Bar chart"
   ]
  },
  {
   "cell_type": "code",
   "execution_count": null,
   "metadata": {},
   "outputs": [],
   "source": [
    "od_predictive_columns = fac0_response.json()\n",
    "fac0_bar_chart = bar_chart(\n",
    "    od_predictive_columns[:25],\n",
    "    title='Columns most predictive of {}'.format(fac0_column), \n",
    "    x_axis='Relevance to {}'.format(fac0_column)\n",
    ")\n",
    "offline.iplot(fac0_bar_chart)"
   ]
  },
  {
   "cell_type": "markdown",
   "metadata": {},
   "source": [
    "## Columns most predictive of `Total Property Crimes Rate (per 100000 Population)`"
   ]
  },
  {
   "cell_type": "markdown",
   "metadata": {},
   "source": [
    "#### Fetch"
   ]
  },
  {
   "cell_type": "code",
   "execution_count": null,
   "metadata": {},
   "outputs": [],
   "source": [
    "fac1_column = 'Total Property Crimes Rate (per 100000 Population)'\n",
    "fac1_payload = dict(column=fac1_column)\n",
    "fac1_response = requests.post(\n",
    "    'http://bayesrest:5000/find-associated-columns',\n",
    "    json=fac1_payload, \n",
    "    headers=headers\n",
    ")\n",
    "assert fac1_response.status_code == 200"
   ]
  },
  {
   "cell_type": "markdown",
   "metadata": {},
   "source": [
    "#### Bar Chart"
   ]
  },
  {
   "cell_type": "code",
   "execution_count": null,
   "metadata": {},
   "outputs": [],
   "source": [
    "fac1_columns = fac1_response.json()\n",
    "fac1_bar_chart = bar_chart(\n",
    "    fac1_columns[:25],\n",
    "    title='Columns most predictive of {}'.format(fac1_column), \n",
    "    x_axis='Relevance to {}'.format(fac1_column)\n",
    ")\n",
    "offline.iplot(fac1_bar_chart)"
   ]
  },
  {
   "cell_type": "markdown",
   "metadata": {},
   "source": [
    "## Counties with unlikely numbers of opioid deaths"
   ]
  },
  {
   "cell_type": "markdown",
   "metadata": {},
   "source": [
    "### Unlikely counties without context"
   ]
  },
  {
   "cell_type": "code",
   "execution_count": null,
   "metadata": {},
   "outputs": [],
   "source": [
    "fa0_target_column = 'Opioid_Deaths'"
   ]
  },
  {
   "cell_type": "markdown",
   "metadata": {},
   "source": [
    "#### Fetch"
   ]
  },
  {
   "cell_type": "code",
   "execution_count": null,
   "metadata": {},
   "outputs": [],
   "source": [
    "fa0_payload = {\n",
    "    'target-column': fa0_target_column, \n",
    "    'context-columns': []\n",
    "}\n",
    "fa0_response = requests.post(\n",
    "    'http://bayesrest:5000/find-anomalies', \n",
    "    json=fa0_payload, \n",
    "    headers={'content-type': 'application/json'}\n",
    ")\n",
    "assert fa0_response.status_code == 200"
   ]
  },
  {
   "cell_type": "code",
   "execution_count": null,
   "metadata": {},
   "outputs": [],
   "source": [
    "fa0_df = pandas.DataFrame(fa0_response.json(), columns=['rowid', 'probability'])\n",
    "fa0_df = fa0_df[fa0_df['probability'].notnull()]\n",
    "fa0_df = with_columns(fa0_df, ['state_county_fips', 'Location', fa0_target_column])\n",
    "fa0_df[:5]"
   ]
  },
  {
   "cell_type": "markdown",
   "metadata": {},
   "source": [
    "#### Choropleth"
   ]
  },
  {
   "cell_type": "code",
   "execution_count": null,
   "metadata": {},
   "outputs": [],
   "source": [
    "fa0_choropleth = choropleth(\n",
    "    fa0_df['state_county_fips'], \n",
    "    fa0_df['probability'].transform(lambda p: math.log(p)), \n",
    "    title='Counties with unlikely values for {}'.format(fa0_target_column)\n",
    ")\n",
    "offline.iplot(fa0_choropleth)"
   ]
  },
  {
   "cell_type": "markdown",
   "metadata": {},
   "source": [
    "#### Scatterplot"
   ]
  },
  {
   "cell_type": "code",
   "execution_count": null,
   "metadata": {},
   "outputs": [],
   "source": [
    "fa0_scatter = scatterplot(\n",
    "    xs=fa0_df[fa0_target_column],\n",
    "    ys=fa0_df['probability'],\n",
    "    text=fa0_df['Location'],\n",
    "    x_axis=fa0_target_column, \n",
    "    y_axis='Probability Score'\n",
    ")\n",
    "offline.iplot(fa0_scatter)"
   ]
  },
  {
   "cell_type": "markdown",
   "metadata": {},
   "source": [
    "### Unlikely counties in the context of predictively relevant columns"
   ]
  },
  {
   "cell_type": "code",
   "execution_count": null,
   "metadata": {},
   "outputs": [],
   "source": [
    "fa1_target_column = 'Opioid_Deaths'"
   ]
  },
  {
   "cell_type": "markdown",
   "metadata": {},
   "source": [
    "#### Fetch"
   ]
  },
  {
   "cell_type": "code",
   "execution_count": null,
   "metadata": {},
   "outputs": [],
   "source": [
    "fa1_payload = {\n",
    "    'target-column': fa1_target_column, \n",
    "    'context-columns': [\n",
    "        '\"Trump 2016\"', \n",
    "        '\"Total Population: Foreign Born: Not a Citizen\"', \n",
    "        '\"Families: Income in  below poverty level: Married Couple Family: with Related Child Living  Bellow Poverty Level\"'\n",
    "    ]\n",
    "}\n",
    "fa1_response = requests.post('http://bayesrest:5000/find-anomalies', json=fa1_payload, headers=headers)\n",
    "assert fa1_response.status_code == 200"
   ]
  },
  {
   "cell_type": "code",
   "execution_count": null,
   "metadata": {},
   "outputs": [],
   "source": [
    "fa1_df = pandas.DataFrame(fa1_response.json(), columns=['rowid', 'probability'])\n",
    "fa1_df = fa1_df[fa1_df['probability'].notnull()]\n",
    "fa1_df = with_columns(fa1_df, ['state_county_fips', 'Location', fa1_target_column])\n",
    "fa1_df[:5]"
   ]
  },
  {
   "cell_type": "markdown",
   "metadata": {},
   "source": [
    "#### Choropleth"
   ]
  },
  {
   "cell_type": "code",
   "execution_count": null,
   "metadata": {},
   "outputs": [],
   "source": [
    "fa1_choropleth = choropleth(\n",
    "    fa1_df['state_county_fips'], \n",
    "    fa1_df['probability'].transform(lambda p: math.log(p)), \n",
    "    title='''Anomalous counties in terms of {}, in the context of support for Trump, \n",
    "    <br>density of immigrants, and poverty'''.format(fa1_target_column)\n",
    ")\n",
    "offline.iplot(fa1_choropleth)"
   ]
  },
  {
   "cell_type": "markdown",
   "metadata": {},
   "source": [
    "#### Scatterplot"
   ]
  },
  {
   "cell_type": "code",
   "execution_count": null,
   "metadata": {},
   "outputs": [],
   "source": [
    "fa1_scatter = scatterplot(\n",
    "    fa1_df[fa1_target_column],\n",
    "    fa1_df['probability'],\n",
    "    fa1_df['Location'],\n",
    "    x_axis=fa1_target_column, \n",
    "    y_axis='Probability Score',\n",
    "    title='''Anomalous counties in terms of {}, in the context of support for Trump, \n",
    "    <br> density of immigrants, and poverty'''.format(fa1_target_column)\n",
    ")\n",
    "offline.iplot(fa1_scatter)"
   ]
  },
  {
   "cell_type": "markdown",
   "metadata": {},
   "source": [
    "### Unlikely counties in the context of the top 10 most relevant columns"
   ]
  },
  {
   "cell_type": "code",
   "execution_count": null,
   "metadata": {},
   "outputs": [],
   "source": [
    "fa2_target_column = 'Opioid_Deaths'"
   ]
  },
  {
   "cell_type": "markdown",
   "metadata": {},
   "source": [
    "#### Fetch"
   ]
  },
  {
   "cell_type": "code",
   "execution_count": null,
   "metadata": {},
   "outputs": [],
   "source": [
    "fa2_context_columns = [column['column'] for column in od_predictive_columns[1:11]]\n",
    "fa2_payload = {\n",
    "    'target-column': fa2_target_column, \n",
    "    'context-columns': fa2_context_columns\n",
    "}\n",
    "fa2_response = requests.post('http://bayesrest:5000/find-anomalies', json=fa1_payload, headers=headers)\n",
    "assert fa2_response.status_code == 200"
   ]
  },
  {
   "cell_type": "code",
   "execution_count": null,
   "metadata": {},
   "outputs": [],
   "source": [
    "fa2_df = pandas.DataFrame(fa2_response.json(), columns=['rowid', 'probability'])\n",
    "fa2_df = fa2_df[fa2_df['probability'].notnull()]\n",
    "fa2_df = with_columns(fa2_df, ['state_county_fips', 'Location', fa2_target_column])\n",
    "fa2_df[:5]"
   ]
  },
  {
   "cell_type": "markdown",
   "metadata": {},
   "source": [
    "#### Choropleth"
   ]
  },
  {
   "cell_type": "code",
   "execution_count": null,
   "metadata": {},
   "outputs": [],
   "source": [
    "fa2_choropleth = choropleth(\n",
    "    fa2_df['state_county_fips'], \n",
    "    fa2_df['probability'].transform(lambda p: math.log(p)), \n",
    "    title='Anomalous counties in terms of {}, in the context of the top 10 most relevant variables'.format(fa2_target_column)\n",
    ")\n",
    "offline.iplot(fa2_choropleth)"
   ]
  },
  {
   "cell_type": "markdown",
   "metadata": {},
   "source": [
    "#### Scatterplot"
   ]
  },
  {
   "cell_type": "code",
   "execution_count": null,
   "metadata": {},
   "outputs": [],
   "source": [
    "fa2_scatter = scatterplot(\n",
    "    fa2_df[fa2_target_column],\n",
    "    fa2_df['probability'],\n",
    "    fa2_df['Location'],\n",
    "    \n",
    "    x_axis=fa2_target_column, \n",
    "    y_axis='Probability Score',\n",
    "    title='Anomalous counties in terms of {}, in the context of the top 10 most relevant columns'.format(fa2_target_column)\n",
    ")\n",
    "offline.iplot(fa2_scatter)"
   ]
  },
  {
   "cell_type": "markdown",
   "metadata": {},
   "source": [
    "## Counties similar to a county with a low number of opioid deaths and low probability density of opioid deaths"
   ]
  },
  {
   "cell_type": "code",
   "execution_count": null,
   "metadata": {},
   "outputs": [],
   "source": [
    "def location_to_rowid(location):\n",
    "    rowid = df.loc[df['Location'] == location]['rowid'].iloc[0]\n",
    "    return numpy.asscalar(rowid)"
   ]
  },
  {
   "cell_type": "code",
   "execution_count": null,
   "metadata": {},
   "outputs": [],
   "source": [
    "fp1_context_column = 'Opioid_Deaths'\n",
    "fp1_location = 'Presidio County, Texas'\n",
    "fp1_rowid = location_to_rowid(fp1_location)\n",
    "assert fp1_rowid is not None"
   ]
  },
  {
   "cell_type": "markdown",
   "metadata": {},
   "source": [
    "#### Fetch"
   ]
  },
  {
   "cell_type": "code",
   "execution_count": null,
   "metadata": {},
   "outputs": [],
   "source": [
    "fp1_payload = {\n",
    "    'target-row': fp1_rowid, \n",
    "    'context-column': fp1_context_column\n",
    "}\n",
    "\n",
    "fp1_response = requests.post(\n",
    "    'http://bayesrest:5000/find-peers', \n",
    "    json=fp1_payload, \n",
    "    headers=headers)\n",
    "assert fp1_response.status_code == 200"
   ]
  },
  {
   "cell_type": "code",
   "execution_count": null,
   "metadata": {},
   "outputs": [],
   "source": [
    "fp1_df = pandas.DataFrame(fp1_response.json(), columns=['rowid', 'similarity'])\n",
    "fp1_df = fp1_df[fp1_df['similarity'].notnull()]\n",
    "fp1_df = with_columns(fp1_df, ['state_county_fips', 'Location', fp1_context_column])\n",
    "fp1_df[:5]"
   ]
  },
  {
   "cell_type": "markdown",
   "metadata": {},
   "source": [
    "#### Choropleth"
   ]
  },
  {
   "cell_type": "code",
   "execution_count": null,
   "metadata": {},
   "outputs": [],
   "source": [
    "fp1_choropleth = choropleth(\n",
    "    fips=fp1_df['state_county_fips'], \n",
    "    values=fp1_df['similarity'], \n",
    "    legend_title='Similarity Score',\n",
    "    title='Counties similar to {} with respect to {}'.format(fp1_location, fp1_context_column),\n",
    "    color_scale=[\"#f7fbff\",\"#ebf3fb\",\"#deebf7\",\"#d2e3f3\",\"#c6dbef\",\"#b3d2e9\",\"#9ecae1\", \"#85bcdb\",\"#6baed6\",\"#57a0ce\",\"#4292c6\"]\n",
    ")\n",
    "offline.iplot(fp1_choropleth)"
   ]
  },
  {
   "cell_type": "markdown",
   "metadata": {},
   "source": [
    "#### Scatterplot"
   ]
  },
  {
   "cell_type": "code",
   "execution_count": null,
   "metadata": {},
   "outputs": [],
   "source": [
    "fp1_scatter = scatterplot(\n",
    "    xs=fp1_df[fp1_context_column],\n",
    "    x_axis=fp1_context_column, \n",
    "    ys=fp1_df['similarity'],\n",
    "    y_axis='Similarity Score',\n",
    "    text=fp1_df['Location'],\n",
    "    title='Counties similar to {} with respect to {}'.format(fp1_location, fp1_context_column)\n",
    ")\n",
    "offline.iplot(fp1_scatter)"
   ]
  },
  {
   "cell_type": "markdown",
   "metadata": {},
   "source": [
    "## Counties similar to a county with a low number of opioid deaths and high probability density of opioid deaths"
   ]
  },
  {
   "cell_type": "markdown",
   "metadata": {},
   "source": [
    "#### Fetch"
   ]
  },
  {
   "cell_type": "code",
   "execution_count": null,
   "metadata": {},
   "outputs": [],
   "source": [
    "fp2_context_column = 'Opioid_Deaths'\n",
    "fp2_location = 'Starr County, Texas'\n",
    "fp2_rowid = location_to_rowid(fp2_location)\n",
    "assert fp2_rowid is not None"
   ]
  },
  {
   "cell_type": "code",
   "execution_count": null,
   "metadata": {},
   "outputs": [],
   "source": [
    "fp2_payload = {\n",
    "    'target-row': fp2_rowid, \n",
    "    'context-column': fp2_context_column\n",
    "}\n",
    "\n",
    "fp2_response = requests.post(\n",
    "    'http://bayesrest:5000/find-peers', \n",
    "    json=fp2_payload, \n",
    "    headers=headers)\n",
    "assert fp2_response.status_code == 200"
   ]
  },
  {
   "cell_type": "code",
   "execution_count": null,
   "metadata": {},
   "outputs": [],
   "source": [
    "fp2_df = pandas.DataFrame(fp2_response.json(), columns=['rowid', 'similarity'])\n",
    "fp2_df = fp2_df[fp2_df['similarity'].notnull()]\n",
    "fp2_df = with_columns(fp2_df, ['state_county_fips', 'Location', fp2_context_column])\n",
    "fp2_df[:5]"
   ]
  },
  {
   "cell_type": "markdown",
   "metadata": {},
   "source": [
    "#### Choropleth"
   ]
  },
  {
   "cell_type": "code",
   "execution_count": null,
   "metadata": {},
   "outputs": [],
   "source": [
    "fp2_choropleth = choropleth(\n",
    "    fips=fp2_df['state_county_fips'], \n",
    "    values=fp2_df['similarity'], \n",
    "    legend_title='Similarity Score',\n",
    "    title='Counties Similar to {} with respect to {}'.format(fp2_location, fp2_context_column),\n",
    "    color_scale=[\"#f7fbff\",\"#ebf3fb\",\"#deebf7\",\"#d2e3f3\",\"#c6dbef\",\"#b3d2e9\",\"#9ecae1\", \"#85bcdb\",\"#6baed6\",\"#57a0ce\",\"#4292c6\"]\n",
    ")\n",
    "offline.iplot(fp2_choropleth)"
   ]
  },
  {
   "cell_type": "markdown",
   "metadata": {},
   "source": [
    "#### Scatterplot"
   ]
  },
  {
   "cell_type": "code",
   "execution_count": null,
   "metadata": {},
   "outputs": [],
   "source": [
    "fp2_scatter = scatterplot(\n",
    "    xs=fp2_df[fp2_context_column],\n",
    "    x_axis=fp2_context_column, \n",
    "    ys=fp2_df['similarity'],\n",
    "    y_axis='Similarity Score',\n",
    "    text=fp2_df['Location'],\n",
    "    title='Counties Similar to {} with respect to {}'.format(fp2_location, fp2_context_column)\n",
    ")\n",
    "offline.iplot(fp2_scatter)"
   ]
  },
  {
   "cell_type": "markdown",
   "metadata": {},
   "source": [
    "## Counties similar to a county with a high number of opioid deaths"
   ]
  },
  {
   "cell_type": "markdown",
   "metadata": {},
   "source": [
    "Here we'll focus on counties similar to a county with a high number of opioid deaths: <b>Los Angeles County, California.</b>"
   ]
  },
  {
   "cell_type": "markdown",
   "metadata": {},
   "source": [
    "#### Fetch"
   ]
  },
  {
   "cell_type": "code",
   "execution_count": null,
   "metadata": {},
   "outputs": [],
   "source": [
    "fp3_context_column = 'Opioid_Deaths'\n",
    "fp3_location = 'Los Angeles County, California'\n",
    "fp3_rowid = location_to_rowid(fp3_location)\n",
    "assert fp3_rowid is not None"
   ]
  },
  {
   "cell_type": "code",
   "execution_count": null,
   "metadata": {},
   "outputs": [],
   "source": [
    "fp3_payload = {\n",
    "    'target-row': fp3_rowid,\n",
    "    'context-column': fp3_context_column\n",
    "}\n",
    "\n",
    "fp3_response = requests.post(\n",
    "    'http://bayesrest:5000/find-peers', \n",
    "    json=fp3_payload, \n",
    "    headers=headers)\n",
    "assert fp3_response.status_code == 200"
   ]
  },
  {
   "cell_type": "code",
   "execution_count": null,
   "metadata": {},
   "outputs": [],
   "source": [
    "fp3_df = pandas.DataFrame(fp3_response.json(), columns=['rowid', 'similarity'])\n",
    "fp3_df = fp3_df[fp3_df['similarity'].notnull()]\n",
    "fp3_df = with_columns(fp3_df, ['state_county_fips', 'Location', fp3_context_column])\n",
    "fp3_df[:5]"
   ]
  },
  {
   "cell_type": "markdown",
   "metadata": {},
   "source": [
    "#### Choropleth"
   ]
  },
  {
   "cell_type": "code",
   "execution_count": null,
   "metadata": {},
   "outputs": [],
   "source": [
    "fp3_choropleth = choropleth(\n",
    "    fips=fp3_df['state_county_fips'], \n",
    "    values=fp3_df['similarity'], \n",
    "    legend_title='Similarity Score',\n",
    "    title='Counties similar to {} with respect to {}'.format(fp3_location, fp3_context_column),\n",
    "    color_scale=[\"#f7fbff\",\"#ebf3fb\",\"#deebf7\",\"#d2e3f3\",\"#c6dbef\",\"#b3d2e9\",\"#9ecae1\", \"#85bcdb\",\"#6baed6\",\"#57a0ce\",\"#4292c6\"]\n",
    ")\n",
    "offline.iplot(fp3_choropleth)"
   ]
  },
  {
   "cell_type": "markdown",
   "metadata": {},
   "source": [
    "#### Scatterplot"
   ]
  },
  {
   "cell_type": "code",
   "execution_count": null,
   "metadata": {},
   "outputs": [],
   "source": [
    "fp3_scatter = scatterplot(\n",
    "    xs=fp3_df[fp3_context_column],\n",
    "    x_axis=fp3_context_column, \n",
    "    ys=fp3_df['similarity'],\n",
    "    y_axis='Similarity Score',\n",
    "    text=fp3_df['Location'],\n",
    "    title='Counties Similar to {} with respect to {}'.format(fp3_location, fp3_context_column)\n",
    ")\n",
    "offline.iplot(fp3_scatter)"
   ]
  }
 ],
 "metadata": {
  "kernelspec": {
   "display_name": "Python 3",
   "language": "python",
   "name": "python3"
  },
  "language_info": {
   "codemirror_mode": {
    "name": "ipython",
    "version": 3
   },
   "file_extension": ".py",
   "mimetype": "text/x-python",
   "name": "python",
   "nbconvert_exporter": "python",
   "pygments_lexer": "ipython3",
   "version": "3.6.4"
  }
 },
 "nbformat": 4,
 "nbformat_minor": 2
}
