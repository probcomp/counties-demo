{
 "cells": [
  {
   "cell_type": "markdown",
   "metadata": {},
   "source": [
    "# Bayesian Database Search API Tutorial"
   ]
  },
  {
   "cell_type": "markdown",
   "metadata": {},
   "source": [
    "## Getting Set Up\n",
    "Importing libraries and confirming that the API is running:"
   ]
  },
  {
   "cell_type": "code",
   "execution_count": null,
   "metadata": {},
   "outputs": [],
   "source": [
    "import requests\n",
    "import numpy as np\n",
    "import pandas as pd\n",
    "\n",
    "r = requests.get('http://bayesrest:5000/table-data',())\n",
    "resp = r.json()\n",
    "\n",
    "bayesrest_data_frame = pd.DataFrame(data=resp['data'], columns=resp['columns'])\n",
    "data = resp['data']\n",
    "fips_index = resp['columns'].index('state_county_fips')\n",
    "rowid_index = resp['columns'].index('rowid')\n",
    "opioid_death_index = resp['columns'].index('Opioid_Deaths')\n",
    "location_index = resp['columns'].index('Location')\n",
    "\n",
    "rowid_to_fips = { row[rowid_index]: row[fips_index] for row in data}\n",
    "rowid_to_od_val = {row[rowid_index]: row[opioid_death_index] for row in data}\n",
    "rowid_to_location = {row[rowid_index]: row[location_index] for row in data}\n",
    "bayesrest_data_frame"
   ]
  },
  {
   "cell_type": "markdown",
   "metadata": {},
   "source": [
    "## Let's find columns most predictive of \"Opioid_Deaths\" and show the results in a bar chart."
   ]
  },
  {
   "cell_type": "markdown",
   "metadata": {},
   "source": [
    "### Fetch the data"
   ]
  },
  {
   "cell_type": "code",
   "execution_count": null,
   "metadata": {},
   "outputs": [],
   "source": [
    "payload={'column': 'Opioid_Deaths'}\n",
    "headers={'content-type': 'application/json'}\n",
    "\n",
    "response = requests.post('http://bayesrest:5000/find-associated-columns', json=payload, headers=headers)\n",
    "assert response.status_code == 200\n",
    "\n",
    "response.json()[:5]"
   ]
  },
  {
   "cell_type": "markdown",
   "metadata": {},
   "source": [
    "### Transform and render to a bar chart"
   ]
  },
  {
   "cell_type": "code",
   "execution_count": null,
   "metadata": {},
   "outputs": [],
   "source": [
    "import plotly.offline\n",
    "import plotly.graph_objs as go\n",
    "plotly.offline.init_notebook_mode(connected=False)\n",
    "\n",
    "top_columns = response.json()[:25]\n",
    "\n",
    "columns = [column['column'][:40] + ('…' if len(column['column']) > 40 else '') \n",
    "           for column in top_columns]\n",
    "scores = [column['score'] for column in top_columns]\n",
    "\n",
    "data = [go.Bar(\n",
    "            x=scores,\n",
    "            y=columns,\n",
    "            orientation = 'h'\n",
    ")]\n",
    "\n",
    "layout = go.Layout(\n",
    "    margin=plotly.graph_objs.layout.Margin(\n",
    "    ),\n",
    "    title=\"Columns relevant to opioid deaths\",\n",
    "    yaxis=dict(\n",
    "        tickfont=dict(\n",
    "            size=9,\n",
    "            color='rgb(107, 107, 107)'\n",
    "        ),\n",
    "        tickangle=30,\n",
    "        automargin=True\n",
    "    ),\n",
    "    xaxis=dict(\n",
    "        title=\"Relevance to opioid deaths\"\n",
    "    )\n",
    ")\n",
    "\n",
    "fig = go.Figure(data=data, layout=layout)\n",
    "plotly.offline.iplot(fig, filename='horizontal-bar')"
   ]
  },
  {
   "cell_type": "markdown",
   "metadata": {},
   "source": [
    "## Next we can score counties for how likely they are for opioid deaths"
   ]
  },
  {
   "cell_type": "markdown",
   "metadata": {},
   "source": [
    "### First, we check which counties have an anomalous number of opioid deaths without context"
   ]
  },
  {
   "cell_type": "code",
   "execution_count": null,
   "metadata": {},
   "outputs": [],
   "source": [
    "import plotly.figure_factory as ff\n",
    "import math\n",
    "\n",
    "payload={'target-column': 'Opioid_Deaths', 'context-columns': []}\n",
    "headers={'content-type': 'application/json'}\n",
    "\n",
    "response = requests.post('http://bayesrest:5000/find-anomalies', json=payload, headers=headers)\n",
    "\n",
    "def to_maps(data):\n",
    "    return [{\n",
    "        \"rowid\": row[0], \n",
    "        \"fips\": rowid_to_fips[row[0]],\n",
    "        \"probability_log\": math.log(row[1]),\n",
    "        \"probability\": row[1],\n",
    "        \"opioid_deaths\": rowid_to_od_val[row[0]],\n",
    "        \"location\": rowid_to_location[row[0]]}\n",
    "    for row in data \n",
    "    if row[1] is not None]\n",
    "\n",
    "rows = to_maps(response.json())\n",
    "rows[:5]"
   ]
  },
  {
   "cell_type": "code",
   "execution_count": null,
   "metadata": {},
   "outputs": [],
   "source": [
    "fips = [row['fips'] for row in rows]\n",
    "probabilities_log = [row['probability_log'] for row in rows]\n",
    "probabilities = [row['probability'] for row in rows]\n",
    "opioid_deaths = [row['opioid_deaths'] for row in rows]\n",
    "locations = [row['location'] for row in rows]"
   ]
  },
  {
   "cell_type": "code",
   "execution_count": null,
   "metadata": {},
   "outputs": [],
   "source": [
    "colorscale = [\"#f7fbff\",\"#ebf3fb\",\"#deebf7\",\"#d2e3f3\",\"#c6dbef\",\"#b3d2e9\",\"#9ecae1\",\n",
    "              \"#85bcdb\",\"#6baed6\",\"#57a0ce\",\"#4292c6\",\"#3082be\",\"#2171b5\",\"#1361a9\",\n",
    "              \"#08519c\",\"#0b4083\",\"#08306b\"]\n",
    "colorscale.reverse()"
   ]
  },
  {
   "cell_type": "code",
   "execution_count": null,
   "metadata": {},
   "outputs": [],
   "source": [
    "binning_endpoints = list(np.linspace(min(probabilities_log), max(probabilities_log), len(colorscale) - 1))"
   ]
  },
  {
   "cell_type": "code",
   "execution_count": null,
   "metadata": {},
   "outputs": [],
   "source": [
    "import plotly.offline\n",
    "\n",
    "fig = ff.create_choropleth(\n",
    "    fips=fips, \n",
    "    values=probabilities_log,\n",
    "    scope=['usa'],\n",
    "    colorscale=colorscale,\n",
    "    binning_endpoints=binning_endpoints,\n",
    "    county_outline={\n",
    "        'color': 'rgb(15, 15, 55)', \n",
    "        'width': 0.5\n",
    "    },\n",
    "    show_hover=True, \n",
    "    centroid_marker={'opacity': 0},\n",
    "    asp=2.9, \n",
    "    title='Anomalous counties in terms of opioid deaths',\n",
    "    showlegend=False\n",
    ")\n",
    "plotly.offline.iplot(fig, filename='choropleth_full_usa')"
   ]
  },
  {
   "cell_type": "code",
   "execution_count": null,
   "metadata": {},
   "outputs": [],
   "source": [
    "import plotly.plotly as py\n",
    "import plotly.graph_objs as go\n",
    "import plotly.figure_factory as figure_factory\n",
    "import plotly.offline\n",
    "\n",
    "plotly.offline.init_notebook_mode(connected=False)\n",
    "\n",
    "trace = go.Scatter(\n",
    "    x = opioid_deaths,\n",
    "    y = probabilities,\n",
    "    mode = 'markers',\n",
    "    text = locations\n",
    ")\n",
    "\n",
    "layout= go.Layout(\n",
    "    title= 'Anomalous counties in terms of opioid deaths',\n",
    "    hovermode= 'closest',\n",
    "    xaxis= dict(\n",
    "        title= 'Opioid Deaths'\n",
    "    ),\n",
    "    yaxis=dict(\n",
    "        title= 'Anomalousness Score'\n",
    "    ),\n",
    "    showlegend= False\n",
    ")\n",
    "\n",
    "data = [trace]\n",
    "fig = go.Figure(data=data, layout=layout)\n",
    "plotly.offline.iplot(fig, filename='basic-scatter')"
   ]
  },
  {
   "cell_type": "markdown",
   "metadata": {},
   "source": [
    "### Second, we can compare which counties have an anomalous number of opioid deaths in the context of columns that were found to be relevant"
   ]
  },
  {
   "cell_type": "code",
   "execution_count": null,
   "metadata": {},
   "outputs": [],
   "source": [
    "import plotly.figure_factory as ff\n",
    "import math\n",
    "\n",
    "payload={'target-column': 'Opioid_Deaths', 'context-columns': ['\"Trump 2016\"', '\"Total Population: Foreign Born: Not a Citizen\"', '\"Families: Income in  below poverty level: Married Couple Family: with Related Child Living  Bellow Poverty Level\"']}\n",
    "headers={'content-type': 'application/json'}\n",
    "\n",
    "response = requests.post('http://bayesrest:5000/find-anomalies', json=payload, headers=headers)\n",
    "rows = to_maps(response.json())\n",
    "rows[:5]"
   ]
  },
  {
   "cell_type": "code",
   "execution_count": null,
   "metadata": {},
   "outputs": [],
   "source": [
    "fips = [row['fips'] for row in rows]\n",
    "probabilities = [row['probability'] for row in rows]\n",
    "probabilities_log = [row['probability_log'] for row in rows]\n",
    "opioid_deaths = [row['opioid_deaths'] for row in rows]\n",
    "locations = [row['location'] for row in rows]"
   ]
  },
  {
   "cell_type": "code",
   "execution_count": null,
   "metadata": {},
   "outputs": [],
   "source": [
    "colorscale = [\"#f7fbff\",\"#ebf3fb\",\"#deebf7\",\"#d2e3f3\",\"#c6dbef\",\"#b3d2e9\",\"#9ecae1\",\n",
    "              \"#85bcdb\",\"#6baed6\",\"#57a0ce\",\"#4292c6\",\"#3082be\",\"#2171b5\",\"#1361a9\",\n",
    "              \"#08519c\",\"#0b4083\",\"#08306b\"]\n",
    "colorscale.reverse()"
   ]
  },
  {
   "cell_type": "code",
   "execution_count": null,
   "metadata": {},
   "outputs": [],
   "source": [
    "binning_endpoints = list(np.linspace(min(probabilities_log), max(probabilities_log), len(colorscale) - 1))"
   ]
  },
  {
   "cell_type": "code",
   "execution_count": null,
   "metadata": {},
   "outputs": [],
   "source": [
    "import plotly.offline\n",
    "\n",
    "fig = ff.create_choropleth(\n",
    "    fips=fips, \n",
    "    values=probabilities_log,\n",
    "    scope=['usa'],\n",
    "    colorscale=colorscale,\n",
    "    binning_endpoints=binning_endpoints,\n",
    "    county_outline={\n",
    "        'color': 'rgb(15, 15, 55)', \n",
    "        'width': 0.5\n",
    "    },\n",
    "    show_hover=True, \n",
    "    centroid_marker={'opacity': 0},\n",
    "    asp=2.9, \n",
    "    title='Anomalous counties in terms of opioid deaths, in the context of support for Trump, <br> density of immigrants, and poverty',\n",
    "    showlegend=False\n",
    ")\n",
    "plotly.offline.iplot(fig, filename='choropleth_full_usa')"
   ]
  },
  {
   "cell_type": "code",
   "execution_count": null,
   "metadata": {},
   "outputs": [],
   "source": [
    "import plotly.plotly as py\n",
    "import plotly.graph_objs as go\n",
    "import plotly.figure_factory as figure_factory\n",
    "import plotly.offline\n",
    "\n",
    "plotly.offline.init_notebook_mode(connected=False)\n",
    "\n",
    "trace = go.Scatter(\n",
    "    x = opioid_deaths,\n",
    "    y = probabilities,\n",
    "    mode = 'markers',\n",
    "    text = locations\n",
    ")\n",
    "\n",
    "layout= go.Layout(\n",
    "    title= 'Anomalous counties in terms of opioid deaths, in the context of support for Trump, <br> density of immigrants, and poverty',\n",
    "    hovermode= 'closest',\n",
    "    xaxis= dict(\n",
    "        title= 'Opioid Deaths'\n",
    "    ),\n",
    "    yaxis=dict(\n",
    "        title= 'Logarithm of Anomalousness Score'\n",
    "    ),\n",
    "    showlegend= False\n",
    ")\n",
    "\n",
    "data = [trace]\n",
    "fig = go.Figure(data=data, layout=layout)\n",
    "plotly.offline.iplot(fig, filename='basic-scatter')"
   ]
  },
  {
   "cell_type": "markdown",
   "metadata": {},
   "source": [
    "## Finally, we can find rows most similar to a county with a low number of opioid deaths (Fillmore County, Minnesota)"
   ]
  },
  {
   "cell_type": "code",
   "execution_count": null,
   "metadata": {},
   "outputs": [],
   "source": [
    "payload={'target-row': 27, 'context-column': 'Opioid_Deaths'}\n",
    "headers={'content-type': 'application/json'}\n",
    "\n",
    "response = requests.post('http://bayesrest:5000/find-peers', json=payload, headers=headers)\n",
    "assert response.status_code == 200\n",
    "\n",
    "rows = [{\"rowid\": row[0],\n",
    "         \"similarity\": row[1],\n",
    "         \"fips\": rowid_to_fips[row[0]],\n",
    "         \"opioid_deaths\": rowid_to_od_val[row[0]],\n",
    "         \"location\": rowid_to_location[row[0]]} for row in response.json()]\n",
    "rows[:25]"
   ]
  },
  {
   "cell_type": "code",
   "execution_count": null,
   "metadata": {},
   "outputs": [],
   "source": [
    "fips = [row['fips'] for row in rows]\n",
    "similarities = [row['similarity'] for row in rows]\n",
    "opioid_deaths = [row['opioid_deaths'] for row in rows]\n",
    "locations = [row['location'] for row in rows]"
   ]
  },
  {
   "cell_type": "code",
   "execution_count": null,
   "metadata": {},
   "outputs": [],
   "source": [
    "colorscale = [\"#f7fbff\",\"#ebf3fb\",\"#deebf7\",\"#d2e3f3\",\"#c6dbef\",\"#b3d2e9\",\"#9ecae1\",\n",
    "              \"#85bcdb\",\"#6baed6\",\"#57a0ce\",\"#4292c6\"]"
   ]
  },
  {
   "cell_type": "code",
   "execution_count": null,
   "metadata": {},
   "outputs": [],
   "source": [
    "binning_endpoints = list(np.linspace(min(similarities), max(similarities), len(colorscale) - 1))"
   ]
  },
  {
   "cell_type": "code",
   "execution_count": null,
   "metadata": {},
   "outputs": [],
   "source": [
    "scores = [row['similarity'] for row in rows]\n",
    "fips = [row['fips'] for row in rows]\n",
    "\n",
    "import plotly.plotly as plotly\n",
    "import plotly.figure_factory as figure_factory\n",
    "import plotly.offline\n",
    "\n",
    "plotly.offline.init_notebook_mode(connected=False)\n",
    "\n",
    "fig = figure_factory.create_choropleth(\n",
    "    fips=fips, \n",
    "    values=similarities,\n",
    "    scope=['usa'],\n",
    "    binning_endpoints=binning_endpoints,\n",
    "    colorscale=colorscale,\n",
    "    county_outline={'color': 'rgb(15, 15, 55)', 'width': 0.5},\n",
    "    title='Counties Similar to Fillmore County, Minnesota with respect to opioid deaths',\n",
    "    legend_title='Similarity Score'\n",
    ")\n",
    "\n",
    "plotly.offline.iplot(fig, filename='choropleth_full_usa')"
   ]
  },
  {
   "cell_type": "code",
   "execution_count": null,
   "metadata": {},
   "outputs": [],
   "source": [
    "import plotly.plotly as py\n",
    "import plotly.graph_objs as go\n",
    "import plotly.figure_factory as figure_factory\n",
    "import plotly.offline\n",
    "\n",
    "plotly.offline.init_notebook_mode(connected=False)\n",
    "\n",
    "trace = go.Scatter(\n",
    "    x = opioid_deaths,\n",
    "    y = similarities,\n",
    "    mode = 'markers',\n",
    "    text = locations\n",
    ")\n",
    "\n",
    "layout= go.Layout(\n",
    "    title= 'Counties Similar to Fillmore County, Minnesota with respect to opioid deaths',\n",
    "    hovermode= 'closest',\n",
    "    xaxis= dict(\n",
    "        title= 'Opioid Deaths'\n",
    "    ),\n",
    "    yaxis=dict(\n",
    "        title= 'Similarity Score'\n",
    "    ),\n",
    "    showlegend= False\n",
    ")\n",
    "\n",
    "data = [trace]\n",
    "fig = go.Figure(data=data, layout=layout)\n",
    "plotly.offline.iplot(fig, filename='basic-scatter')"
   ]
  }
 ],
 "metadata": {
  "kernelspec": {
   "display_name": "Python 3",
   "language": "python",
   "name": "python3"
  },
  "language_info": {
   "codemirror_mode": {
    "name": "ipython",
    "version": 3
   },
   "file_extension": ".py",
   "mimetype": "text/x-python",
   "name": "python",
   "nbconvert_exporter": "python",
   "pygments_lexer": "ipython3",
   "version": "3.6.4"
  }
 },
 "nbformat": 4,
 "nbformat_minor": 2
}
