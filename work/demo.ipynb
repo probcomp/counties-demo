{
 "cells": [
  {
   "cell_type": "markdown",
   "metadata": {},
   "source": [
    "# Bayesian Database Search API Tutorial"
   ]
  },
  {
   "cell_type": "markdown",
   "metadata": {},
   "source": [
    "## Preamble\n",
    "Import necessary libraries."
   ]
  },
  {
   "cell_type": "code",
   "execution_count": null,
   "metadata": {},
   "outputs": [],
   "source": [
    "import requests\n",
    "import math\n",
    "import pandas"
   ]
  },
  {
   "cell_type": "markdown",
   "metadata": {},
   "source": [
    "Set HTTP headers to be used across all requests."
   ]
  },
  {
   "cell_type": "code",
   "execution_count": null,
   "metadata": {},
   "outputs": [],
   "source": [
    "headers = {'content-type': 'application/json'}"
   ]
  },
  {
   "cell_type": "markdown",
   "metadata": {},
   "source": [
    "Load visualization utility functions."
   ]
  },
  {
   "cell_type": "code",
   "execution_count": null,
   "metadata": {},
   "outputs": [],
   "source": [
    "%run visualize.py"
   ]
  },
  {
   "cell_type": "markdown",
   "metadata": {},
   "source": [
    "## The data"
   ]
  },
  {
   "cell_type": "code",
   "execution_count": null,
   "metadata": {},
   "outputs": [],
   "source": [
    "http_response = requests.get('http://bayesrest:5000/table-data', ())\n",
    "assert http_response.status_code == 200\n",
    "\n",
    "response_json = http_response.json()\n",
    "data = response_json['data']\n",
    "\n",
    "dataframe = pandas.DataFrame(\n",
    "    data=data,\n",
    "    columns=response_json['columns']\n",
    ")\n",
    "dataframe.index = dataframe['rowid']\n",
    "\n",
    "def with_columns(rdf, columns=[]):\n",
    "    return rdf.merge(\n",
    "            dataframe.loc[:, ['rowid'] + columns], \n",
    "            on='rowid', \n",
    "            how='left'\n",
    "    )\n",
    "\n",
    "dataframe[:5]"
   ]
  },
  {
   "cell_type": "markdown",
   "metadata": {},
   "source": [
    "## Columns most predictive of `Opioid_Deaths`"
   ]
  },
  {
   "cell_type": "code",
   "execution_count": null,
   "metadata": {},
   "outputs": [],
   "source": [
    "column = 'Opioid_Deaths'"
   ]
  },
  {
   "cell_type": "markdown",
   "metadata": {},
   "source": [
    "#### Fetch"
   ]
  },
  {
   "cell_type": "code",
   "execution_count": null,
   "metadata": {},
   "outputs": [],
   "source": [
    "payload = dict(column=column)\n",
    "response = requests.post(\n",
    "    'http://bayesrest:5000/find-associated-columns',\n",
    "    json=payload, \n",
    "    headers=headers\n",
    ")\n",
    "assert response.status_code == 200"
   ]
  },
  {
   "cell_type": "markdown",
   "metadata": {},
   "source": [
    "#### Bar chart"
   ]
  },
  {
   "cell_type": "code",
   "execution_count": null,
   "metadata": {},
   "outputs": [],
   "source": [
    "od_predictive_columns = response.json()\n",
    "bar_chart = make_bar_chart(\n",
    "    od_predictive_columns[:25],\n",
    "    title='Columns most predictive of {}'.format(column), \n",
    "    x_axis='Relevance to {}'.format(column)\n",
    ")\n",
    "offline.iplot(bar_chart)"
   ]
  },
  {
   "cell_type": "markdown",
   "metadata": {},
   "source": [
    "## Columns most predictive of `Total Property Crimes Rate (per 100000 Population)`"
   ]
  },
  {
   "cell_type": "markdown",
   "metadata": {},
   "source": [
    "#### Fetch"
   ]
  },
  {
   "cell_type": "code",
   "execution_count": null,
   "metadata": {},
   "outputs": [],
   "source": [
    "column = 'Total Property Crimes Rate (per 100000 Population)'\n",
    "payload = dict(column=column)\n",
    "response = requests.post(\n",
    "    'http://bayesrest:5000/find-associated-columns',\n",
    "    json=payload, \n",
    "    headers=headers\n",
    ")\n",
    "assert response.status_code == 200"
   ]
  },
  {
   "cell_type": "markdown",
   "metadata": {},
   "source": [
    "#### Bar Chart"
   ]
  },
  {
   "cell_type": "code",
   "execution_count": null,
   "metadata": {},
   "outputs": [],
   "source": [
    "columns = response.json()\n",
    "bar_chart = make_bar_chart(\n",
    "    columns[:25],\n",
    "    title='Columns most predictive of {}'.format(column), \n",
    "    x_axis='Relevance to {}'.format(column)\n",
    ")\n",
    "offline.iplot(bar_chart)"
   ]
  },
  {
   "cell_type": "markdown",
   "metadata": {},
   "source": [
    "## Counties with unlikely numbers of opioid deaths"
   ]
  },
  {
   "cell_type": "markdown",
   "metadata": {},
   "source": [
    "### Unlikely counties without context"
   ]
  },
  {
   "cell_type": "code",
   "execution_count": null,
   "metadata": {},
   "outputs": [],
   "source": [
    "target_column = 'Opioid_Deaths'"
   ]
  },
  {
   "cell_type": "markdown",
   "metadata": {},
   "source": [
    "#### Fetch"
   ]
  },
  {
   "cell_type": "code",
   "execution_count": null,
   "metadata": {},
   "outputs": [],
   "source": [
    "payload = {\n",
    "    'target-column': target_column, \n",
    "    'context-columns': []\n",
    "}\n",
    "response = requests.post(\n",
    "    'http://bayesrest:5000/find-anomalies', \n",
    "    json=payload, \n",
    "    headers={'content-type': 'application/json'}\n",
    ")\n",
    "assert response.status_code == 200"
   ]
  },
  {
   "cell_type": "code",
   "execution_count": null,
   "metadata": {},
   "outputs": [],
   "source": [
    "df = pandas.DataFrame(response.json(), columns=['rowid', 'probability'])\n",
    "df = df[df['probability'].notnull()]\n",
    "df = with_columns(df, ['state_county_fips', 'Location', target_column])\n",
    "df[:5]"
   ]
  },
  {
   "cell_type": "markdown",
   "metadata": {},
   "source": [
    "#### Choropleth"
   ]
  },
  {
   "cell_type": "code",
   "execution_count": null,
   "metadata": {},
   "outputs": [],
   "source": [
    "choropleth = make_choropleth(\n",
    "    df['state_county_fips'], \n",
    "    df['probability'].transform(lambda p: math.log(p)), \n",
    "    title='Counties with unlikely values for {}'.format(target_column)\n",
    ")\n",
    "offline.iplot(choropleth)"
   ]
  },
  {
   "cell_type": "markdown",
   "metadata": {},
   "source": [
    "#### Scatterplot"
   ]
  },
  {
   "cell_type": "code",
   "execution_count": null,
   "metadata": {},
   "outputs": [],
   "source": [
    "scatter = make_scatterplot(\n",
    "    xs=df[target_column],\n",
    "    ys=df['probability'],\n",
    "    text=df['Location'],\n",
    "    x_axis=target_column, \n",
    "    y_axis='Probability Score'\n",
    ")\n",
    "offline.iplot(scatter)"
   ]
  },
  {
   "cell_type": "markdown",
   "metadata": {},
   "source": [
    "### Unlikely counties in the context of predictively relevant columns"
   ]
  },
  {
   "cell_type": "code",
   "execution_count": null,
   "metadata": {},
   "outputs": [],
   "source": [
    "target_column = 'Opioid_Deaths'"
   ]
  },
  {
   "cell_type": "markdown",
   "metadata": {},
   "source": [
    "#### Fetch"
   ]
  },
  {
   "cell_type": "code",
   "execution_count": null,
   "metadata": {},
   "outputs": [],
   "source": [
    "payload = {\n",
    "    'target-column': target_column, \n",
    "    'context-columns': [\n",
    "        '\"Trump 2016\"', \n",
    "        '\"Total Population: Foreign Born: Not a Citizen\"', \n",
    "        '\"Families: Income in  below poverty level: Married Couple Family: with Related Child Living  Bellow Poverty Level\"'\n",
    "    ]\n",
    "}\n",
    "response = requests.post('http://bayesrest:5000/find-anomalies', json=payload, headers=headers)\n",
    "assert response.status_code == 200"
   ]
  },
  {
   "cell_type": "code",
   "execution_count": null,
   "metadata": {},
   "outputs": [],
   "source": [
    "df = pandas.DataFrame(response.json(), columns=['rowid', 'probability'])\n",
    "df = df[df['probability'].notnull()]\n",
    "df = with_columns(df, ['state_county_fips', 'Location', target_column])\n",
    "df[:5]"
   ]
  },
  {
   "cell_type": "markdown",
   "metadata": {},
   "source": [
    "#### Choropleth"
   ]
  },
  {
   "cell_type": "code",
   "execution_count": null,
   "metadata": {},
   "outputs": [],
   "source": [
    "choropleth = make_choropleth(\n",
    "    df['state_county_fips'], \n",
    "    df['probability'].transform(lambda p: math.log(p)), \n",
    "    title='''Anomalous counties in terms of {}, in the context of support for Trump, \n",
    "    <br>density of immigrants, and poverty'''.format(target_column)\n",
    ")\n",
    "offline.iplot(choropleth)"
   ]
  },
  {
   "cell_type": "markdown",
   "metadata": {},
   "source": [
    "#### Scatterplot"
   ]
  },
  {
   "cell_type": "code",
   "execution_count": null,
   "metadata": {},
   "outputs": [],
   "source": [
    "scatter = make_scatterplot(\n",
    "    df[target_column],\n",
    "    df['probability'],\n",
    "    df['Location'],\n",
    "    x_axis=target_column, \n",
    "    y_axis='Probability Score',\n",
    "    title='''Anomalous counties in terms of {}, in the context of support for Trump, \n",
    "    <br> density of immigrants, and poverty'''.format(target_column)\n",
    ")\n",
    "offline.iplot(scatter)"
   ]
  },
  {
   "cell_type": "markdown",
   "metadata": {},
   "source": [
    "### Unlikely counties in the context of the top 10 most relevant columns"
   ]
  },
  {
   "cell_type": "code",
   "execution_count": null,
   "metadata": {},
   "outputs": [],
   "source": [
    "target_column = 'Opioid_Deaths'\n",
    "context_columns = ['\"{}\"'.format(column['column']) for column in od_predictive_columns[1:11]]\n",
    "context_columns"
   ]
  },
  {
   "cell_type": "markdown",
   "metadata": {},
   "source": [
    "#### Fetch"
   ]
  },
  {
   "cell_type": "code",
   "execution_count": null,
   "metadata": {},
   "outputs": [],
   "source": [
    "payload = {\n",
    "    'target-column': target_column, \n",
    "    'context-columns': context_columns\n",
    "}\n",
    "response = requests.post('http://bayesrest:5000/find-anomalies', json=payload, headers=headers)\n",
    "assert response.status_code == 200"
   ]
  },
  {
   "cell_type": "code",
   "execution_count": null,
   "metadata": {},
   "outputs": [],
   "source": [
    "df = pandas.DataFrame(response.json(), columns=['rowid', 'probability'])\n",
    "df = df[df['probability'].notnull()]\n",
    "df = with_columns(df, ['state_county_fips', 'Location', target_column])\n",
    "df[:5]"
   ]
  },
  {
   "cell_type": "markdown",
   "metadata": {},
   "source": [
    "#### Choropleth"
   ]
  },
  {
   "cell_type": "code",
   "execution_count": null,
   "metadata": {},
   "outputs": [],
   "source": [
    "choropleth = make_choropleth(\n",
    "    df['state_county_fips'], \n",
    "    df['probability'].transform(lambda p: math.log(p)), \n",
    "    title='Anomalous counties in terms of {}, in the context of the top 10 most relevant variables'.format(target_column)\n",
    ")\n",
    "offline.iplot(choropleth)"
   ]
  },
  {
   "cell_type": "markdown",
   "metadata": {},
   "source": [
    "#### Scatterplot"
   ]
  },
  {
   "cell_type": "code",
   "execution_count": null,
   "metadata": {},
   "outputs": [],
   "source": [
    "scatter = make_scatterplot(\n",
    "    df[target_column],\n",
    "    df['probability'],\n",
    "    df['Location'],\n",
    "    \n",
    "    x_axis=target_column, \n",
    "    y_axis='Probability Score',\n",
    "    title='Anomalous counties in terms of {}, in the context of the top 10 most relevant columns'.format(target_column)\n",
    ")\n",
    "offline.iplot(scatter)"
   ]
  },
  {
   "cell_type": "markdown",
   "metadata": {},
   "source": [
    "## Counties similar to a county with a low number of opioid deaths and low probability density of opioid deaths"
   ]
  },
  {
   "cell_type": "code",
   "execution_count": null,
   "metadata": {},
   "outputs": [],
   "source": [
    "def location_to_rowid(location):\n",
    "    rowid = df.loc[df['Location'] == location]['rowid'].iloc[0]\n",
    "    return numpy.asscalar(rowid)"
   ]
  },
  {
   "cell_type": "code",
   "execution_count": null,
   "metadata": {},
   "outputs": [],
   "source": [
    "context_column = 'Opioid_Deaths'\n",
    "location = 'Presidio County, Texas'\n",
    "rowid = location_to_rowid(location)\n",
    "assert rowid is not None"
   ]
  },
  {
   "cell_type": "markdown",
   "metadata": {},
   "source": [
    "#### Fetch"
   ]
  },
  {
   "cell_type": "code",
   "execution_count": null,
   "metadata": {},
   "outputs": [],
   "source": [
    "payload = {\n",
    "    'target-row': rowid, \n",
    "    'context-column': context_column\n",
    "}\n",
    "\n",
    "response = requests.post(\n",
    "    'http://bayesrest:5000/find-peers', \n",
    "    json=payload, \n",
    "    headers=headers)\n",
    "assert response.status_code == 200"
   ]
  },
  {
   "cell_type": "code",
   "execution_count": null,
   "metadata": {},
   "outputs": [],
   "source": [
    "df = pandas.DataFrame(response.json(), columns=['rowid', 'similarity'])\n",
    "df = df[df['similarity'].notnull()]\n",
    "df = with_columns(df, ['state_county_fips', 'Location', context_column])\n",
    "df[:5]"
   ]
  },
  {
   "cell_type": "markdown",
   "metadata": {},
   "source": [
    "#### Choropleth"
   ]
  },
  {
   "cell_type": "code",
   "execution_count": null,
   "metadata": {},
   "outputs": [],
   "source": [
    "choropleth = make_choropleth(\n",
    "    fips=df['state_county_fips'], \n",
    "    values=df['similarity'], \n",
    "    legend_title='Similarity Score',\n",
    "    title='Counties similar to {} with respect to {}'.format(location, context_column),\n",
    "    color_scale=[\"#f7fbff\",\"#ebf3fb\",\"#deebf7\",\"#d2e3f3\",\"#c6dbef\",\"#b3d2e9\",\"#9ecae1\", \"#85bcdb\",\"#6baed6\",\"#57a0ce\",\"#4292c6\"]\n",
    ")\n",
    "offline.iplot(choropleth)"
   ]
  },
  {
   "cell_type": "markdown",
   "metadata": {},
   "source": [
    "#### Scatterplot"
   ]
  },
  {
   "cell_type": "code",
   "execution_count": null,
   "metadata": {},
   "outputs": [],
   "source": [
    "scatter = make_scatterplot(\n",
    "    xs=df[context_column],\n",
    "    x_axis=context_column, \n",
    "    ys=df['similarity'],\n",
    "    y_axis='Similarity Score',\n",
    "    text=df['Location'],\n",
    "    title='Counties similar to {} with respect to {}'.format(location, context_column)\n",
    ")\n",
    "offline.iplot(scatter)"
   ]
  },
  {
   "cell_type": "markdown",
   "metadata": {},
   "source": [
    "## Counties similar to a county with a low number of opioid deaths and high probability density of opioid deaths"
   ]
  },
  {
   "cell_type": "markdown",
   "metadata": {},
   "source": [
    "#### Fetch"
   ]
  },
  {
   "cell_type": "code",
   "execution_count": null,
   "metadata": {},
   "outputs": [],
   "source": [
    "context_column = 'Opioid_Deaths'\n",
    "location = 'Starr County, Texas'\n",
    "rowid = location_to_rowid(location)\n",
    "assert rowid is not None"
   ]
  },
  {
   "cell_type": "code",
   "execution_count": null,
   "metadata": {},
   "outputs": [],
   "source": [
    "payload = {\n",
    "    'target-row': rowid, \n",
    "    'context-column': context_column\n",
    "}\n",
    "\n",
    "response = requests.post(\n",
    "    'http://bayesrest:5000/find-peers', \n",
    "    json=payload, \n",
    "    headers=headers)\n",
    "assert response.status_code == 200"
   ]
  },
  {
   "cell_type": "code",
   "execution_count": null,
   "metadata": {},
   "outputs": [],
   "source": [
    "df = pandas.DataFrame(response.json(), columns=['rowid', 'similarity'])\n",
    "df = df[df['similarity'].notnull()]\n",
    "df = with_columns(df, ['state_county_fips', 'Location', context_column])\n",
    "df[:5]"
   ]
  },
  {
   "cell_type": "markdown",
   "metadata": {},
   "source": [
    "#### Choropleth"
   ]
  },
  {
   "cell_type": "code",
   "execution_count": null,
   "metadata": {},
   "outputs": [],
   "source": [
    "choropleth = make_choropleth(\n",
    "    fips=df['state_county_fips'], \n",
    "    values=df['similarity'], \n",
    "    legend_title='Similarity Score',\n",
    "    title='Counties Similar to {} with respect to {}'.format(location, context_column),\n",
    "    color_scale=[\"#f7fbff\",\"#ebf3fb\",\"#deebf7\",\"#d2e3f3\",\"#c6dbef\",\"#b3d2e9\",\"#9ecae1\", \"#85bcdb\",\"#6baed6\",\"#57a0ce\",\"#4292c6\"]\n",
    ")\n",
    "offline.iplot(choropleth)"
   ]
  },
  {
   "cell_type": "markdown",
   "metadata": {},
   "source": [
    "#### Scatterplot"
   ]
  },
  {
   "cell_type": "code",
   "execution_count": null,
   "metadata": {},
   "outputs": [],
   "source": [
    "scatter = make_scatterplot(\n",
    "    xs=df[context_column],\n",
    "    x_axis=context_column, \n",
    "    ys=df['similarity'],\n",
    "    y_axis='Similarity Score',\n",
    "    text=df['Location'],\n",
    "    title='Counties Similar to {} with respect to {}'.format(location, context_column)\n",
    ")\n",
    "offline.iplot(scatter)"
   ]
  },
  {
   "cell_type": "markdown",
   "metadata": {},
   "source": [
    "## Counties similar to a county with a high number of opioid deaths"
   ]
  },
  {
   "cell_type": "markdown",
   "metadata": {},
   "source": [
    "Here we'll focus on counties similar to a county with a high number of opioid deaths: <b>Los Angeles County, California.</b>"
   ]
  },
  {
   "cell_type": "markdown",
   "metadata": {},
   "source": [
    "#### Fetch"
   ]
  },
  {
   "cell_type": "code",
   "execution_count": null,
   "metadata": {},
   "outputs": [],
   "source": [
    "context_column = 'Opioid_Deaths'\n",
    "location = 'Los Angeles County, California'\n",
    "rowid = location_to_rowid(location)\n",
    "assert rowid is not None"
   ]
  },
  {
   "cell_type": "code",
   "execution_count": null,
   "metadata": {},
   "outputs": [],
   "source": [
    "payload = {\n",
    "    'target-row': rowid,\n",
    "    'context-column': context_column\n",
    "}\n",
    "\n",
    "response = requests.post(\n",
    "    'http://bayesrest:5000/find-peers', \n",
    "    json=payload, \n",
    "    headers=headers)\n",
    "assert response.status_code == 200"
   ]
  },
  {
   "cell_type": "code",
   "execution_count": null,
   "metadata": {},
   "outputs": [],
   "source": [
    "df = pandas.DataFrame(response.json(), columns=['rowid', 'similarity'])\n",
    "df = df[df['similarity'].notnull()]\n",
    "df = with_columns(df, ['state_county_fips', 'Location', context_column])\n",
    "df[:5]"
   ]
  },
  {
   "cell_type": "markdown",
   "metadata": {},
   "source": [
    "#### Choropleth"
   ]
  },
  {
   "cell_type": "code",
   "execution_count": null,
   "metadata": {},
   "outputs": [],
   "source": [
    "choropleth = make_choropleth(\n",
    "    fips=df['state_county_fips'], \n",
    "    values=df['similarity'], \n",
    "    legend_title='Similarity Score',\n",
    "    title='Counties similar to {} with respect to {}'.format(location, context_column),\n",
    "    color_scale=[\"#f7fbff\",\"#ebf3fb\",\"#deebf7\",\"#d2e3f3\",\"#c6dbef\",\"#b3d2e9\",\"#9ecae1\", \"#85bcdb\",\"#6baed6\",\"#57a0ce\",\"#4292c6\"]\n",
    ")\n",
    "offline.iplot(choropleth)"
   ]
  },
  {
   "cell_type": "markdown",
   "metadata": {},
   "source": [
    "#### Scatterplot"
   ]
  },
  {
   "cell_type": "code",
   "execution_count": null,
   "metadata": {},
   "outputs": [],
   "source": [
    "scatter = make_scatterplot(\n",
    "    xs=df[context_column],\n",
    "    x_axis=context_column, \n",
    "    ys=df['similarity'],\n",
    "    y_axis='Similarity Score',\n",
    "    text=df['Location'],\n",
    "    title='Counties Similar to {} with respect to {}'.format(location, context_column)\n",
    ")\n",
    "offline.iplot(scatter)"
   ]
  }
 ],
 "metadata": {
  "kernelspec": {
   "display_name": "Python 3",
   "language": "python",
   "name": "python3"
  },
  "language_info": {
   "codemirror_mode": {
    "name": "ipython",
    "version": 3
   },
   "file_extension": ".py",
   "mimetype": "text/x-python",
   "name": "python",
   "nbconvert_exporter": "python",
   "pygments_lexer": "ipython3",
   "version": "3.6.4"
  }
 },
 "nbformat": 4,
 "nbformat_minor": 2
}
