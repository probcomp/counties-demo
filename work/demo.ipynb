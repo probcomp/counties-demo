{
 "cells": [
  {
   "cell_type": "markdown",
   "metadata": {},
   "source": [
    "# Bayesian Database Search API Tutorial"
   ]
  },
  {
   "cell_type": "markdown",
   "metadata": {},
   "source": [
    "# New set of queries -- as of 07/11/2018"
   ]
  },
  {
   "cell_type": "markdown",
   "metadata": {},
   "source": [
    "## Getting Set Up\n",
    "Importing libraries and confirming that the API is running:"
   ]
  },
  {
   "cell_type": "code",
   "execution_count": null,
   "metadata": {},
   "outputs": [],
   "source": [
    "import requests\n",
    "import matplotlib.pyplot as plt; plt.rcdefaults()\n",
    "import numpy as np\n",
    "import matplotlib.pyplot as plt"
   ]
  },
  {
   "cell_type": "code",
   "execution_count": null,
   "metadata": {},
   "outputs": [],
   "source": [
    "import pandas as pd\n",
    "\n",
    "r = requests.get('http://bayesrest:5000/table-data',())\n",
    "resp = r.json()\n",
    "\n",
    "bayesrest_data_frame = pd.DataFrame(data=resp['data'], columns=resp['columns'])\n",
    "data = resp['data']\n",
    "fips_index = resp['columns'].index('state_county_fips')\n",
    "rowid_index = resp['columns'].index('rowid')\n",
    "rowid_to_fips = { row[rowid_index]: row[fips_index] for row in data}\n",
    "bayesrest_data_frame"
   ]
  },
  {
   "cell_type": "markdown",
   "metadata": {},
   "source": [
    "## N1. Find columns most predictive of \"Opioid_deaths\" and show the results in a bar chart."
   ]
  },
  {
   "cell_type": "markdown",
   "metadata": {},
   "source": [
    "### Fetch the data"
   ]
  },
  {
   "cell_type": "code",
   "execution_count": null,
   "metadata": {},
   "outputs": [],
   "source": [
    "payload={'column': 'Opioid_Deaths'}\n",
    "headers={'content-type': 'application/json'}\n",
    "\n",
    "response = requests.post('http://bayesrest:5000/find-associated-columns', json=payload, headers=headers)\n",
    "assert response.status_code == 200\n",
    "\n",
    "response.json()[:5]"
   ]
  },
  {
   "cell_type": "markdown",
   "metadata": {},
   "source": [
    "### Transform and render to a choropleth map"
   ]
  },
  {
   "cell_type": "code",
   "execution_count": null,
   "metadata": {},
   "outputs": [],
   "source": [
    "top_columns = response.json()[:24] # take the top 24\n",
    "\n",
    "columns = [column['column'] for column in top_columns]\n",
    "scores = [column['score'] for column in top_columns]\n",
    "\n",
    "y_pos = np.arange(len(columns))\n",
    "\n",
    "plt.bar(y_pos, scores, align='center', alpha=0.5)\n",
    "plt.xticks(y_pos, columns, rotation=20)\n",
    "plt.ylabel('Dependence probability score')\n",
    "plt.title('Columns associated with opioid deaths')\n",
    " \n",
    "plt.show()"
   ]
  },
  {
   "cell_type": "markdown",
   "metadata": {},
   "source": [
    "## N2. Find rows most similar to Oneida County, NY, using Opioid Deaths as the (single) context column, and show the results on a map."
   ]
  },
  {
   "cell_type": "code",
   "execution_count": null,
   "metadata": {},
   "outputs": [],
   "source": [
    "payload={'target-row': 32, 'context-column': 'Opioid_Deaths'}\n",
    "headers={'content-type': 'application/json'}\n",
    "\n",
    "response = requests.post('http://bayesrest:5000/find-peers', json=payload, headers=headers)\n",
    "assert response.status_code == 200\n",
    "\n",
    "rows = [{\"rowid\": row[0], \"similarity\": row[1], \"fips\": rowid_to_fips[row[0]]} for row in response.json()]\n",
    "rows[:5]"
   ]
  },
  {
   "cell_type": "code",
   "execution_count": null,
   "metadata": {},
   "outputs": [],
   "source": [
    "scores = [row['similarity'] for row in rows]\n",
    "fips = [row['fips'] for row in rows]\n",
    "\n",
    "colorscale = [\"#f7fbff\",\"#b3d2e9\",\"#4292c6\",\"#0b4083\"]\n",
    "\n",
    "import plotly.plotly as plotly\n",
    "import plotly.figure_factory as figure_factory\n",
    "import plotly.offline\n",
    "\n",
    "plotly.offline.init_notebook_mode(connected=False)\n",
    "\n",
    "fig = figure_factory.create_choropleth(\n",
    "    fips=fips, \n",
    "    values=scores,\n",
    "    scope=['usa'],\n",
    "    colorscale=colorscale,\n",
    "    county_outline={'color': 'rgb(15, 15, 55)', 'width': 0.5},\n",
    "    title='Counties Similar to Oneida County, NY with respect to opioid deaths',\n",
    "    legend_title='Similarity Score'\n",
    ")\n",
    "\n",
    "plotly.offline.iplot(fig, filename='choropleth_full_usa')"
   ]
  },
  {
   "cell_type": "markdown",
   "metadata": {},
   "source": [
    "## N3. Find rows most anomalous with respect to property crime arrest rate, and show the results on a map."
   ]
  },
  {
   "cell_type": "code",
   "execution_count": null,
   "metadata": {},
   "outputs": [],
   "source": [
    "import plotly.figure_factory as ff\n",
    "import math\n",
    "\n",
    "payload={'target-column': 'Opioid_Deaths', 'context-columns': ['\"Total Property Crime Arrests Rate (per 100000 Population)\"']}\n",
    "headers={'content-type': 'application/json'}\n",
    "\n",
    "response = requests.post('http://bayesrest:5000/find-anomalies', json=payload, headers=headers)\n",
    "rows = [{\"rowid\": row[0], \n",
    "         \"fips\": rowid_to_fips[row[0]],\n",
    "         \"probability\": math.floor(math.log(row[1]))} \n",
    "        for row in response.json() \n",
    "        if row[1] is not None]\n",
    "rows[:5]"
   ]
  },
  {
   "cell_type": "code",
   "execution_count": null,
   "metadata": {},
   "outputs": [],
   "source": [
    "fips = [row['fips'] for row in rows]\n",
    "probabilities = [row['probability'] for row in rows]"
   ]
  },
  {
   "cell_type": "code",
   "execution_count": null,
   "metadata": {},
   "outputs": [],
   "source": [
    "colorscale = [\"#f7fbff\",\"#ebf3fb\",\"#deebf7\",\"#d2e3f3\",\"#c6dbef\",\"#b3d2e9\",\"#9ecae1\",\n",
    "              \"#85bcdb\",\"#6baed6\",\"#57a0ce\",\"#4292c6\",\"#3082be\",\"#2171b5\",\"#1361a9\",\n",
    "              \"#08519c\",\"#0b4083\",\"#08306b\"]"
   ]
  },
  {
   "cell_type": "code",
   "execution_count": null,
   "metadata": {},
   "outputs": [],
   "source": [
    "binning_endpoints = list(np.linspace(min(probabilities), max(probabilities), len(colorscale) - 1))\n",
    "binning_endpoints"
   ]
  },
  {
   "cell_type": "code",
   "execution_count": null,
   "metadata": {},
   "outputs": [],
   "source": [
    "import plotly.offline\n",
    "\n",
    "fig = ff.create_choropleth(\n",
    "    fips=fips, \n",
    "    values=probabilities,\n",
    "    scope=['usa'],\n",
    "    colorscale=colorscale,\n",
    "    binning_endpoints=endpts,\n",
    "    county_outline={\n",
    "        'color': 'rgb(15, 15, 55)', \n",
    "        'width': 0.5\n",
    "    },\n",
    "    show_hover=True, \n",
    "    centroid_marker={'opacity': 0},\n",
    "    asp=2.9, \n",
    "    title='Anomalous counties in terms of opioid deaths, with respect to total property crime arrests rate',\n",
    "    legend_title='Anomalous Score'\n",
    ")\n",
    "plotly.offline.iplot(fig, filename='choropleth_full_usa')\n",
    "#bayesrest_data_frame = pd.DataFrame(data=resp, columns=['row_id', 'score'])"
   ]
  }
 ],
 "metadata": {
  "kernelspec": {
   "display_name": "Python 3",
   "language": "python",
   "name": "python3"
  },
  "language_info": {
   "codemirror_mode": {
    "name": "ipython",
    "version": 3
   },
   "file_extension": ".py",
   "mimetype": "text/x-python",
   "name": "python",
   "nbconvert_exporter": "python",
   "pygments_lexer": "ipython3",
   "version": "3.6.4"
  }
 },
 "nbformat": 4,
 "nbformat_minor": 2
}
